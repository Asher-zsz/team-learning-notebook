{
 "cells": [
  {
   "cell_type": "code",
   "execution_count": 1,
   "metadata": {},
   "outputs": [],
   "source": [
    "#one_way variance analysis for mean\n",
    "def oneway_var_test(df, sig):\n",
    "    data = np.array(df)\n",
    "    x = np.mean(data)\n",
    "    n = len(data)*len(data[0])\n",
    "    k = len(data[0])\n",
    "    m = len(data)\n",
    "    SStotal = np.var(data)*n\n",
    "    df_total = n-1\n",
    "    SSE = np.var(df).sum()*m\n",
    "    SST = (np.square(np.mean(df)-np.mean(arr))).sum()*m\n",
    "    df_e = n-k\n",
    "    df_t = k-1\n",
    "    MST = SST/df_t\n",
    "    MSE = SSE/df_e\n",
    "    F = MST/MSE\n",
    "    p = stats.f.sf(F,df_t,df_e)\n",
    "    result = pd.DataFrame(index =['Treatment','Error','Total'],\n",
    "                          columns = ['Sum of Squares', 'Degree of Freedom', 'Mean Square','F', 'p'])\n",
    "    result['Sum of Squares'],result['Degree of Freedom']= [SST, SSE, SStotal],[df_t, df_e, df_total]\n",
    "    result['Mean Square'],result['F'],result['p'] = [MST, MSE,np.nan],[F, np.nan, np.nan],[p, np.nan, np.nan]\n",
    "    if p < sig:\n",
    "        print('在显著度为'+str(sig)+'下，组间均值有差异')\n",
    "    else:\n",
    "        print('在显著度为'+str(sig)+'下，组间均值无差异')\n",
    "    print (result)\n",
    "    return result\n"
   ]
  },
  {
   "cell_type": "code",
   "execution_count": null,
   "metadata": {},
   "outputs": [],
   "source": [
    "#two_way variance analysis for mean\n",
    "def twoway_var_test(df, sig):\n",
    "    data = np.array(df)\n",
    "    x = np.mean(data)\n",
    "    n = len(data)*len(data[0])\n",
    "    k = len(data[0])\n",
    "    m = len(data)\n",
    "    SStotal = np.var(data)*n\n",
    "    SST = (np.square(np.mean(df)-np.mean(arr))).sum()*m\n",
    "    SSB = (np.square(np.mean(df, axis=1)-np.mean(arr))).sum()*k\n",
    "    SSE = SStotal - SST - SSB\n",
    "    df_total = n-1\n",
    "    df_e = (k-1)*(m-1)\n",
    "    df_t = k-1\n",
    "    df_b = m-1\n",
    "    MST = SST/df_t\n",
    "    MSE = SSE/df_e\n",
    "    MSB = SSB/df_b\n",
    "    FT = MST/MSE\n",
    "    FB = MSB/MSE\n",
    "    pt = stats.f.sf(FT,df_t,df_e)\n",
    "    pb = stats.f.sf(FB,df_b,df_e)\n",
    "    result = pd.DataFrame(index =['TreatmentT','TreatmentB','Error','Total'],\n",
    "                          columns = ['Sum of Squares', 'Degree of Freedom', 'Mean Square','F', 'p'])\n",
    "    result['Sum of Squares'],result['Degree of Freedom']= [SST,SSB,SSE, SStotal],[df_t,df_b,df_e, df_total]\n",
    "    result['Mean Square'],result['F'],result['p'] = [MST,MSB, MSE,np.nan],[FT,FB,np.nan, np.nan],[pt,pb, np.nan, np.nan]\n",
    "    if pt < sig:\n",
    "        print('在显著度为'+str(sig)+'下，T因素对均值有影响')\n",
    "    else:\n",
    "        print('在显著度为'+str(sig)+'下，T因素对均值无影响')\n",
    "    if pb < sig:\n",
    "        print('在显著度为'+str(sig)+'下，B因素对均值有影响')\n",
    "    else:\n",
    "        print('在显著度为'+str(sig)+'下，B因素对均值无影响')\n",
    "    print (result)\n",
    "    return result\n"
   ]
  },
  {
   "cell_type": "code",
   "execution_count": null,
   "metadata": {},
   "outputs": [],
   "source": []
  }
 ],
 "metadata": {
  "kernelspec": {
   "display_name": "Python 3",
   "language": "python",
   "name": "python3"
  },
  "language_info": {
   "codemirror_mode": {
    "name": "ipython",
    "version": 3
   },
   "file_extension": ".py",
   "mimetype": "text/x-python",
   "name": "python",
   "nbconvert_exporter": "python",
   "pygments_lexer": "ipython3",
   "version": "3.7.6"
  },
  "toc": {
   "base_numbering": 1,
   "nav_menu": {},
   "number_sections": true,
   "sideBar": true,
   "skip_h1_title": false,
   "title_cell": "Table of Contents",
   "title_sidebar": "Contents",
   "toc_cell": false,
   "toc_position": {},
   "toc_section_display": true,
   "toc_window_display": false
  },
  "varInspector": {
   "cols": {
    "lenName": 16,
    "lenType": 16,
    "lenVar": 40
   },
   "kernels_config": {
    "python": {
     "delete_cmd_postfix": "",
     "delete_cmd_prefix": "del ",
     "library": "var_list.py",
     "varRefreshCmd": "print(var_dic_list())"
    },
    "r": {
     "delete_cmd_postfix": ") ",
     "delete_cmd_prefix": "rm(",
     "library": "var_list.r",
     "varRefreshCmd": "cat(var_dic_list()) "
    }
   },
   "types_to_exclude": [
    "module",
    "function",
    "builtin_function_or_method",
    "instance",
    "_Feature"
   ],
   "window_display": false
  }
 },
 "nbformat": 4,
 "nbformat_minor": 4
}
